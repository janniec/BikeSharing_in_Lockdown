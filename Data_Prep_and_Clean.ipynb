{
 "cells": [
  {
   "cell_type": "markdown",
   "metadata": {},
   "source": [
    "# Imports"
   ]
  },
  {
   "cell_type": "code",
   "execution_count": 2,
   "metadata": {},
   "outputs": [],
   "source": [
    "import pandas as pd\n",
    "import numpy as np\n",
    "import os\n",
    "import pickle\n",
    "\n",
    "# import distance calculation function from module\n",
    "import haversine_formula as hf"
   ]
  },
  {
   "cell_type": "markdown",
   "metadata": {},
   "source": [
    "# Load Data\n",
    "This data comes from [Divvy](https://www.divvybikes.com/system-data), where I downloaded all the csv files associated with 2020.\n",
    "First, we will load all the csv files as dataframes and concat them into a single dataframe."
   ]
  },
  {
   "cell_type": "code",
   "execution_count": 4,
   "metadata": {},
   "outputs": [
    {
     "name": "stdout",
     "output_type": "stream",
     "text": [
      "202004-divvy-tripdata.csv \t (84776, 13)\n",
      "202005-divvy-tripdata.csv \t (200274, 13)\n",
      "202006-divvy-tripdata.csv \t (343005, 13)\n",
      "Divvy_Trips_2020_Q1.csv \t (426887, 13)\n",
      "(1054942, 13)\n"
     ]
    }
   ],
   "source": [
    "dfs = {}\n",
    "for file in [f for f in os.listdir('data/') if f.endswith('csv')]:\n",
    "    # load csv files\n",
    "    dfs[file]=pd.read_csv('data/'+file)\n",
    "    print(file, '\\t', dfs[file].shape)\n",
    "\n",
    "#concat csvs into 1 big dataframe\n",
    "df= pd.concat(dfs.values())\n",
    "df = df.sort_values(by=['started_at']).reset_index(drop=True)\n",
    "print(df.shape)"
   ]
  },
  {
   "cell_type": "markdown",
   "metadata": {},
   "source": [
    "# Prepare Data\n",
    "We're going to parse and process the data first because we will use the derived information to clean the dataframe afterwards."
   ]
  },
  {
   "cell_type": "markdown",
   "metadata": {},
   "source": [
    "## Parse Datetime"
   ]
  },
  {
   "cell_type": "code",
   "execution_count": 5,
   "metadata": {},
   "outputs": [],
   "source": [
    "def parse_datetime(df):\n",
    "    '''\n",
    "    df [dataframe] = Divvy dataframe with string timestamp columns\n",
    "    Function to convert string timestamp columns to datetime columns and parse out week number.\n",
    "    df [dataframe] = Divvy dataframe with a parsed week column\n",
    "    '''\n",
    "    # convert string date time to a datetime object\n",
    "    df['started_at'] = pd.to_datetime(df['started_at'])\n",
    "    df['ended_at'] = pd.to_datetime(df['ended_at'])\n",
    "    # parse out the numerical week from the s-tart datetime\n",
    "    df['start_week'] = df['started_at'].dt.week\n",
    "    return df"
   ]
  },
  {
   "cell_type": "markdown",
   "metadata": {},
   "source": [
    "## Calculate Duration"
   ]
  },
  {
   "cell_type": "code",
   "execution_count": 9,
   "metadata": {},
   "outputs": [],
   "source": [
    "def get_minutes(ended_at, started_at):\n",
    "    '''\n",
    "    ended_at [datetime] = time of bicycle return\n",
    "    started_at [datetime] = time of bicycle rental\n",
    "    Function to calculate duration in minutes between two datetime objects.\n",
    "    minutes [float] = duration in minutes\n",
    "    '''\n",
    "    minutes = ((ended_at - started_at).total_seconds())/60\n",
    "    return minutes"
   ]
  },
  {
   "cell_type": "code",
   "execution_count": 5,
   "metadata": {},
   "outputs": [],
   "source": [
    "def add_duration(df):\n",
    "    '''\n",
    "    df [dataframe] = Divvy dataframe with datetime columns\n",
    "    Function to apply the get_minutes function to all the rows.\n",
    "    df [dataframe] = Divvy dataframe with a duration column\n",
    "    '''\n",
    "    # applies the get_minutes function to every row of the dataframe\n",
    "    df['duration_minutes'] = df.apply(lambda row: get_minutes(row['ended_at'], row['started_at']), axis = 1)\n",
    "    return df"
   ]
  },
  {
   "cell_type": "markdown",
   "metadata": {},
   "source": [
    "## Calculate Distance"
   ]
  },
  {
   "cell_type": "code",
   "execution_count": 7,
   "metadata": {},
   "outputs": [],
   "source": [
    "def add_trip_distance(df):\n",
    "    '''\n",
    "    df [dataframe] = Divvy dataframe with starting latitude, starting longitude, ending latitude, and ending longitude columns\n",
    "    Function to apply lat_lng_distance fuction from the haversine_formula.py module to all the rows.\n",
    "    df [dataframe] = Divvy dataframe with a trip distance column\n",
    "    '''\n",
    "    # using the haversine fomula we calcuate the miles between where the trip started and where the trip ended\n",
    "    df['distance'] = df.apply(lambda row: hf.lat_lng_distance(row['start_lat'], row['start_lng'], \n",
    "                                                         row['end_lat'], row['end_lng']), axis = 1) \n",
    "    return df"
   ]
  },
  {
   "cell_type": "markdown",
   "metadata": {},
   "source": [
    "## Prepare Dataframe"
   ]
  },
  {
   "cell_type": "code",
   "execution_count": 8,
   "metadata": {},
   "outputs": [],
   "source": [
    "def prepare_dataframe(df):\n",
    "    '''\n",
    "    df [dataframe] = Divvy dataframe with string timestamp columns, and\n",
    "                     starting latitude, starting longitude, ending latitude, and ending longitude columns\n",
    "    Function to apply all the other data parsing, processing and preparation functions.\n",
    "    df [dataframe] = Divvy dataframe with a parsed week column, a duration column, and a trip distance column\n",
    "    '''\n",
    "    # runs all the parsing and processing functions\n",
    "    print('Before: ', df.shape)\n",
    "    df = parse_datetime(df)\n",
    "    df = add_duration(df)\n",
    "    df = add_trip_distance(df)\n",
    "    print('After: ', df.shape)\n",
    "    return df"
   ]
  },
  {
   "cell_type": "code",
   "execution_count": 9,
   "metadata": {},
   "outputs": [
    {
     "name": "stdout",
     "output_type": "stream",
     "text": [
      "Before:  (1054942, 13)\n",
      "After:  (1054942, 16)\n"
     ]
    }
   ],
   "source": [
    "df = prepare_dataframe(df)"
   ]
  },
  {
   "cell_type": "markdown",
   "metadata": {},
   "source": [
    "# Clean Data"
   ]
  },
  {
   "cell_type": "markdown",
   "metadata": {},
   "source": [
    "## Forgot to Return\n",
    "According to Divvy's FAQs, if a bicycle has been missing for longer than 24 hours, the account holder that took out the bicycle will be charged $1,200 fee (plus tax). As such, I used 24 hours to remove rides with outlier durations. "
   ]
  },
  {
   "cell_type": "code",
   "execution_count": 12,
   "metadata": {},
   "outputs": [],
   "source": [
    "def remove_forgot_to_returns(df):\n",
    "    '''\n",
    "    df [dataframe] = Divvy dataframe with a duration column\n",
    "    Function to remove rows with trips longer than 24 hours in duration.\n",
    "    cleaner_df [dataframe] = Divvy dataframe with rides longer than 24 hours filtered out\n",
    "    '''\n",
    "    # Few rides that were longer than 24 hours were pulling the duration mean outward, so we will remove them as outliers\n",
    "    cleaner_df = df[df['duration_minutes']<(24*60)] # rides that are 24 hours or longer\n",
    "    return cleaner_df"
   ]
  },
  {
   "cell_type": "markdown",
   "metadata": {},
   "source": [
    "## Instant Returns"
   ]
  },
  {
   "cell_type": "code",
   "execution_count": 11,
   "metadata": {},
   "outputs": [],
   "source": [
    "def remove_instant_returns(df):\n",
    "    '''\n",
    "    df [dataframe] = Divvy dataframe with a duration column and a trip distance column\n",
    "    Function to remove trips less than 1 minute in duration and with no distance.\n",
    "    cleaner_df [dataframe] = Divvy dataframe without rides that were less than 1 minute and 0 distance\n",
    "    '''\n",
    "    # The numerous instant returns, rides that started but instantly ended, \n",
    "    # were pulling the mean distance and duration downward.\n",
    "    # because the were skewing the behavior of average riders, I removed these as outliers.\n",
    "    cleaner_df = df[~((df['duration_minutes']<1) & (df['distance']==0))]\n",
    "    return cleaner_df"
   ]
  },
  {
   "cell_type": "markdown",
   "metadata": {},
   "source": [
    "## Rides in Progress"
   ]
  },
  {
   "cell_type": "code",
   "execution_count": 12,
   "metadata": {},
   "outputs": [],
   "source": [
    "def remove_rides_in_progress(df):\n",
    "    '''\n",
    "    df [dataframe] = Divvy dataframe with end station name column \n",
    "    Function to remove rows with nulls indicating that the trips never ended.\n",
    "    cleaner_df [dataframe] = Divvy dataframe without rows with null end station names\n",
    "    '''\n",
    "    # This function will remove all the rows with nulls\n",
    "    cleaner_df = df[~df['end_station_name'].isnull()]\n",
    "    return cleaner_df"
   ]
  },
  {
   "cell_type": "markdown",
   "metadata": {},
   "source": [
    "## Last Week"
   ]
  },
  {
   "cell_type": "code",
   "execution_count": 13,
   "metadata": {},
   "outputs": [],
   "source": [
    "def remove_last_week(df):\n",
    "    '''\n",
    "    df [dataframe] = Divvy dataframe with a parsed week column\n",
    "    Function to remove rows with the last week number.\n",
    "    cleaner_df [dataframe] = Divvy dataframe with only data points from complete weeks\n",
    "    '''\n",
    "    # Since we are analyzing our data in within week groups, \n",
    "    # and incomplete week's data will not be an accurate reflection of that week. \n",
    "    # There are only 2 days in the last week of June. \n",
    "    # So we have to remove the last week as it is incomplete. \n",
    "    cleaner_df = df[df['start_week'] != sorted(df['start_week'].unique())[-1]]\n",
    "    return cleaner_df"
   ]
  },
  {
   "cell_type": "markdown",
   "metadata": {},
   "source": [
    "## Clean dataframe"
   ]
  },
  {
   "cell_type": "code",
   "execution_count": null,
   "metadata": {},
   "outputs": [],
   "source": [
    "df [dataframe] = Divvy dataframe with a duration column and a trip distance column with end station name column with a parsed week column\n",
    "\n",
    "cleaner_df [dataframe] = Divvy dataframe with rides longer than 24 hours filtered out, without rides that were less than 1 minute and 0 distance  without rows with null end station nameswith only data points from complete weeks"
   ]
  },
  {
   "cell_type": "code",
   "execution_count": 14,
   "metadata": {},
   "outputs": [],
   "source": [
    "def clean_dataframe(df):\n",
    "    '''\n",
    "    df [dataframe] = Divvy dataframe with a parsed week column, a duration column,\n",
    "                    a trip distance column, and end station name column\n",
    "    Function to apply all the other dataframe cleaning functions.\n",
    "    df [dataframe] = Divvy dataframe without rides longer than 24 hours, rides less thant 1 minute with 0 distance, \n",
    "                    rides without end stations, and rides from the last week. \n",
    "    '''\n",
    "    # running all the cleaning functions\n",
    "    print('Before: ', df.shape)\n",
    "    df = remove_forgot_to_returns(df)\n",
    "    df = remove_instant_returns(df)\n",
    "    df = remove_rides_in_progress(df)\n",
    "    df = remove_last_week(df)\n",
    "    print('After: ', df.shape)\n",
    "    return df"
   ]
  },
  {
   "cell_type": "code",
   "execution_count": 15,
   "metadata": {},
   "outputs": [
    {
     "name": "stdout",
     "output_type": "stream",
     "text": [
      "Before:  (1054942, 16)\n",
      "After:  (1015635, 16)\n"
     ]
    }
   ],
   "source": [
    "df = clean_dataframe(df)"
   ]
  },
  {
   "cell_type": "markdown",
   "metadata": {},
   "source": [
    "# Save Dataframe"
   ]
  },
  {
   "cell_type": "code",
   "execution_count": 16,
   "metadata": {},
   "outputs": [],
   "source": [
    "#create pickle file of cleaned dataframe\n",
    "with open('data/divvy_trips.pkl', 'wb') as picklefile:\n",
    "     pickle.dump(df, picklefile)"
   ]
  }
 ],
 "metadata": {
  "kernelspec": {
   "display_name": "Python 3",
   "language": "python",
   "name": "python3"
  },
  "language_info": {
   "codemirror_mode": {
    "name": "ipython",
    "version": 3
   },
   "file_extension": ".py",
   "mimetype": "text/x-python",
   "name": "python",
   "nbconvert_exporter": "python",
   "pygments_lexer": "ipython3",
   "version": "3.8.2"
  },
  "toc": {
   "base_numbering": 1,
   "nav_menu": {},
   "number_sections": true,
   "sideBar": true,
   "skip_h1_title": false,
   "title_cell": "Table of Contents",
   "title_sidebar": "Contents",
   "toc_cell": false,
   "toc_position": {},
   "toc_section_display": true,
   "toc_window_display": false
  },
  "varInspector": {
   "cols": {
    "lenName": 16,
    "lenType": 16,
    "lenVar": 40
   },
   "kernels_config": {
    "python": {
     "delete_cmd_postfix": "",
     "delete_cmd_prefix": "del ",
     "library": "var_list.py",
     "varRefreshCmd": "print(var_dic_list())"
    },
    "r": {
     "delete_cmd_postfix": ") ",
     "delete_cmd_prefix": "rm(",
     "library": "var_list.r",
     "varRefreshCmd": "cat(var_dic_list()) "
    }
   },
   "types_to_exclude": [
    "module",
    "function",
    "builtin_function_or_method",
    "instance",
    "_Feature"
   ],
   "window_display": false
  }
 },
 "nbformat": 4,
 "nbformat_minor": 4
}
